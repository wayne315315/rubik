{
 "cells": [
  {
   "cell_type": "code",
   "execution_count": 1,
   "metadata": {},
   "outputs": [],
   "source": [
    "import numpy as np\n",
    "\n",
    "from r3 import coords, test_seq\n",
    "from r3 import xp, xn, yp, yn, zp, zn"
   ]
  },
  {
   "cell_type": "code",
   "execution_count": 2,
   "metadata": {},
   "outputs": [
    {
     "name": "stdout",
     "output_type": "stream",
     "text": [
      "63\n"
     ]
    }
   ],
   "source": [
    "# (x+, x-) : 4\n",
    "# (x+, y+) : 105\n",
    "# (x+, y-) : 63\n",
    "# (x+, z+) ; 105\n",
    "# (x+, z-) : 63\n",
    "# (x-, y+) : 63\n",
    "# (x-, y-) : 105\n",
    "# (x-, z+) : 63\n",
    "# (x-, z-) : 105\n",
    "# (y+, y-) : 4\n",
    "# (y+, z+) : 105\n",
    "# (y+, z-) : 63\n",
    "# (z+, z-) : 4\n",
    "for i in range(1, 1001):\n",
    "    seq = [yp, zn] * i\n",
    "    if test_seq(seq, coords):\n",
    "        print(i)\n",
    "        break"
   ]
  },
  {
   "cell_type": "code",
   "execution_count": 3,
   "metadata": {},
   "outputs": [
    {
     "name": "stdout",
     "output_type": "stream",
     "text": [
      "80\n"
     ]
    }
   ],
   "source": [
    "# (x+, y+, z+) : 84\n",
    "# (x+, y+, z-) : 60\n",
    "# (x+, y-, z+) : 60\n",
    "# (x+, y-, z-) : 60\n",
    "\n",
    "# (x+, z+, y+) : 80\n",
    "# (x+, z-, y+) : 360\n",
    "# (x+, z+, y-) : 360\n",
    "# (x+, z-, y-) : 360\n",
    "\n",
    "for i in range(1, 1001):\n",
    "    seq = [xp, zp, yp] * i\n",
    "    if test_seq(seq, coords):\n",
    "        print(i)\n",
    "        break"
   ]
  },
  {
   "cell_type": "code",
   "execution_count": 4,
   "metadata": {},
   "outputs": [
    {
     "name": "stdout",
     "output_type": "stream",
     "text": [
      "9\n"
     ]
    }
   ],
   "source": [
    "# (x+, x+, y+, z+) : 9\n",
    "# (x+, x+, y+, z-) : 63\n",
    "# (x+, x+, y-, z+) : 63\n",
    "# (x+, x+, y-, z-) : 36\n",
    "\n",
    "# (x+, x+, z+, y+) : 36\n",
    "# (x+, x+, z-, y+) : 63\n",
    "# (x+, x+, z+, y-) : 63\n",
    "# (x+, x+, z-, y-) : 9\n",
    "\n",
    "for i in range(1, 1001):\n",
    "    seq = [xp, xp, zn, yn] * i\n",
    "    if test_seq(seq, coords):\n",
    "        print(i)\n",
    "        break"
   ]
  },
  {
   "cell_type": "code",
   "execution_count": 5,
   "metadata": {},
   "outputs": [
    {
     "name": "stdout",
     "output_type": "stream",
     "text": [
      "60\n"
     ]
    }
   ],
   "source": [
    "# (x+, x+, x+, y+, z+) : 360\n",
    "# (x+, x+, x+, y+, z-) : 360\n",
    "# (x+, x+, x+, y-, z+) : 360\n",
    "# (x+, x+, x+, y-, z-) : 80\n",
    "# (x+, x+, x+, z+, y+) : 60\n",
    "# (x+, x+, x+, z-, y+) : 60\n",
    "# (x+, x+, x+, z+, y-) : 60\n",
    "# (x+, x+, x+, z-, y-) : 84\n",
    "\n",
    "\n",
    "for i in range(1, 1001):\n",
    "    seq = [xp, xp, xp, zp, yp] * i\n",
    "    if test_seq(seq, coords):\n",
    "        print(i)\n",
    "        break"
   ]
  },
  {
   "cell_type": "code",
   "execution_count": 6,
   "metadata": {},
   "outputs": [
    {
     "data": {
      "text/plain": [
       "5040"
      ]
     },
     "execution_count": 6,
     "metadata": {},
     "output_type": "execute_result"
    }
   ],
   "source": [
    "4, 63, 105, 60, 80, 84, 360, 9, 36, 63\n",
    "\n",
    "16*9*5*7"
   ]
  },
  {
   "cell_type": "code",
   "execution_count": 7,
   "metadata": {},
   "outputs": [
    {
     "name": "stdout",
     "output_type": "stream",
     "text": [
      "0 () 1\n",
      "1 (xp,) 2\n",
      "2 (xp, xp) 8\n",
      "3 (xp, xp, xp) 41\n",
      "4 (xp, xp, xp, xp) 220\n",
      "5 (xp, xp, xp, xp, xp) 1195\n",
      "6 (xp, xp, xp, xp, xp, xp) 6481\n",
      "7 (xp, xp, xp, xp, xp, xp, xp) 35134\n",
      "8 (xp, xp, xp, xp, xp, xp, xp, xp) 190384\n",
      "9 (xp, xp, xp, xp, xp, xp, xp, xp, xp) 1031297\n",
      "5585243 6187782\n",
      "Elapsed time : 742.19 seconds\n"
     ]
    }
   ],
   "source": [
    "### Find equivalence class of rotation group\n",
    "import time\n",
    "import pickle\n",
    "from collections import defaultdict, deque\n",
    "\n",
    "\n",
    "t1 = time.time()\n",
    "\n",
    "eqcls = defaultdict(list)\n",
    "actions = [xp, xn, yp, yn, zp, zn]\n",
    "epochs = 9\n",
    "state = tuple(coords.flatten())\n",
    "visited = {}\n",
    "\n",
    "# breadth first search\n",
    "buffer = deque([((), state)])\n",
    "length = -1\n",
    "while buffer:\n",
    "    action_tuple, state = buffer.popleft()\n",
    "    eqcls[state].append(action_tuple)\n",
    "    # progress bar\n",
    "    if length < len(action_tuple):\n",
    "        length = len(action_tuple)\n",
    "        print(len(action_tuple), action_tuple, len(eqcls))\n",
    "    for action in actions:\n",
    "        action_tuple_ = (*action_tuple, action)\n",
    "        if len(action_tuple_) <= epochs:\n",
    "            if (action, state) not in visited:\n",
    "                coords_ = np.array(state).reshape((-1,4))\n",
    "                visited[(action, state)] = tuple(action(coords_).flatten())\n",
    "            buffer.append((action_tuple_, visited[(action, state)]))\n",
    "\n",
    "print(len(eqcls), len(visited))\n",
    "print(\"Elapsed time : %.2f seconds\" % (time.time() - t1))"
   ]
  },
  {
   "cell_type": "code",
   "execution_count": 9,
   "metadata": {},
   "outputs": [
    {
     "data": {
      "text/plain": [
       "'\\nfilename = \"eqcls.p\"\\nwith open(filename, \"wb\") as f:\\n    pickle.dump(eqcls, f)\\n'"
      ]
     },
     "execution_count": 9,
     "metadata": {},
     "output_type": "execute_result"
    }
   ],
   "source": [
    "# save eqcls into pickle file\n",
    "\"\"\"\n",
    "filename = \"eqcls.p\"\n",
    "with open(filename, \"wb\") as f:\n",
    "    pickle.dump(eqcls, f)\n",
    "\"\"\""
   ]
  },
  {
   "cell_type": "code",
   "execution_count": null,
   "metadata": {},
   "outputs": [],
   "source": []
  }
 ],
 "metadata": {
  "kernelspec": {
   "display_name": ".venv",
   "language": "python",
   "name": "python3"
  },
  "language_info": {
   "codemirror_mode": {
    "name": "ipython",
    "version": 3
   },
   "file_extension": ".py",
   "mimetype": "text/x-python",
   "name": "python",
   "nbconvert_exporter": "python",
   "pygments_lexer": "ipython3",
   "version": "3.9.6"
  }
 },
 "nbformat": 4,
 "nbformat_minor": 2
}
